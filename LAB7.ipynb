{
 "cells": [
  {
   "attachments": {},
   "cell_type": "markdown",
   "metadata": {},
   "source": [
    "### LABORATORIO #7 ATAQUES A MODELOS \n",
    "##### Alfredo Quezada 191002\n",
    "##### Randy Venegas"
   ]
  },
  {
   "cell_type": "code",
   "execution_count": 7,
   "metadata": {},
   "outputs": [],
   "source": [
    "# Del laboratorio pasado, generamos un modelo y lo montamos para este laboratorio: \n",
    "\n",
    "import tensorflow as tf\n",
    "from keras.layers import Conv2D, MaxPool2D, Dense, Flatten\n",
    "import numpy as np\n",
    "import matplotlib.pyplot as plt\n",
    "import matplotlib\n",
    "from art.estimators.classification import KerasClassifier #No soporta TF 2\n",
    "from art.attacks.evasion import FastGradientMethod\n",
    "from art.utils import load_dataset\n",
    "\n",
    "# Disabling eager execution from TF 2\n",
    "tf.compat.v1.disable_eager_execution()"
   ]
  },
  {
   "cell_type": "code",
   "execution_count": 8,
   "metadata": {},
   "outputs": [],
   "source": [
    "vulnerable_model = tf.keras.models.load_model(\"modelo7\")"
   ]
  },
  {
   "cell_type": "code",
   "execution_count": 9,
   "metadata": {},
   "outputs": [],
   "source": [
    "(train_images, train_labels), (test_images, test_labels), min, max = load_dataset(name=\"mnist\")"
   ]
  },
  {
   "cell_type": "code",
   "execution_count": 10,
   "metadata": {},
   "outputs": [],
   "source": [
    "clasificador = KerasClassifier(\n",
    "    model=vulnerable_model,\n",
    "    clip_values=(min, max))"
   ]
  },
  {
   "attachments": {},
   "cell_type": "markdown",
   "metadata": {},
   "source": [
    "## Ataque de Evasión"
   ]
  },
  {
   "cell_type": "code",
   "execution_count": 11,
   "metadata": {},
   "outputs": [],
   "source": [
    "#Ataque usando Gradiente Descendiente para generar imagenes adversariales\n",
    "#Epsilon define que tan fuerte será el ataque:\n",
    "#Debe haber un equilibrio entre la fuerza del ataque y la detección a simple vista que permita detectar que una imagen fue atacada\n",
    "\n",
    "attack_fgsm = FastGradientMethod(\n",
    "    estimator=clasificador, \n",
    "    eps=0.3\n",
    "    )"
   ]
  },
  {
   "cell_type": "code",
   "execution_count": 12,
   "metadata": {},
   "outputs": [
    {
     "name": "stderr",
     "output_type": "stream",
     "text": [
      "C:\\Users\\Quezada\\AppData\\Local\\Packages\\PythonSoftwareFoundation.Python.3.10_qbz5n2kfra8p0\\LocalCache\\local-packages\\Python310\\site-packages\\keras\\engine\\training_v1.py:2359: UserWarning: `Model.state_updates` will be removed in a future version. This property should not be used in TensorFlow 2.0, as `updates` are applied automatically.\n",
      "  updates=self.state_updates,\n"
     ]
    }
   ],
   "source": [
    "#Generamos imagenes adversariales a partir de un dataset que queremos perturbar\n",
    "test_images_adv = attack_fgsm.generate(x=test_images)"
   ]
  },
  {
   "cell_type": "code",
   "execution_count": 13,
   "metadata": {},
   "outputs": [
    {
     "data": {
      "text/plain": [
       "<matplotlib.image.AxesImage at 0x1e6ff4e3220>"
      ]
     },
     "execution_count": 13,
     "metadata": {},
     "output_type": "execute_result"
    },
    {
     "data": {
      "image/png": "[encoded data removed]",
      "text/plain": [
       "<Figure size 640x480 with 1 Axes>"
      ]
     },
     "metadata": {},
     "output_type": "display_data"
    }
   ],
   "source": [
    "#Ejemplo de una perturbación\n",
    "plt.imshow(X=test_images_adv[0])"
   ]
  },
  {
   "cell_type": "code",
   "execution_count": 14,
   "metadata": {},
   "outputs": [
    {
     "ename": "ValueError",
     "evalue": "A target array with shape (10000, 10) was passed for an output of shape (None, 25) while using as loss `categorical_crossentropy`. This loss expects targets to have the same shape as the output.",
     "output_type": "error",
     "traceback": [
      "\u001b[1;31m---------------------------------------------------------------------------\u001b[0m",
      "\u001b[1;31mValueError\u001b[0m                                Traceback (most recent call last)",
      "\u001b[1;32mc:\\Users\\Quezada\\Desktop\\uvg 2023\\Security Data Science\\Lab07-SDS\\LAB7.ipynb Cell 10\u001b[0m in \u001b[0;36m2\n\u001b[0;32m      <a href='vscode-notebook-cell:/c%3A/Users/Quezada/Desktop/uvg%202023/Security%20Data%20Science/Lab07-SDS/LAB7.ipynb#X12sZmlsZQ%3D%3D?line=0'>1</a>\u001b[0m \u001b[39m# Evaluating the model on clean images\u001b[39;00m\n\u001b[1;32m----> <a href='vscode-notebook-cell:/c%3A/Users/Quezada/Desktop/uvg%202023/Security%20Data%20Science/Lab07-SDS/LAB7.ipynb#X12sZmlsZQ%3D%3D?line=1'>2</a>\u001b[0m score_clean \u001b[39m=\u001b[39m vulnerable_model\u001b[39m.\u001b[39;49mevaluate(\n\u001b[0;32m      <a href='vscode-notebook-cell:/c%3A/Users/Quezada/Desktop/uvg%202023/Security%20Data%20Science/Lab07-SDS/LAB7.ipynb#X12sZmlsZQ%3D%3D?line=2'>3</a>\u001b[0m     x\u001b[39m=\u001b[39;49mtest_images, \n\u001b[0;32m      <a href='vscode-notebook-cell:/c%3A/Users/Quezada/Desktop/uvg%202023/Security%20Data%20Science/Lab07-SDS/LAB7.ipynb#X12sZmlsZQ%3D%3D?line=3'>4</a>\u001b[0m     y\u001b[39m=\u001b[39;49mtest_labels\n\u001b[0;32m      <a href='vscode-notebook-cell:/c%3A/Users/Quezada/Desktop/uvg%202023/Security%20Data%20Science/Lab07-SDS/LAB7.ipynb#X12sZmlsZQ%3D%3D?line=4'>5</a>\u001b[0m     )\n\u001b[0;32m      <a href='vscode-notebook-cell:/c%3A/Users/Quezada/Desktop/uvg%202023/Security%20Data%20Science/Lab07-SDS/LAB7.ipynb#X12sZmlsZQ%3D%3D?line=6'>7</a>\u001b[0m \u001b[39m# Evaluating the model on adversarial images\u001b[39;00m\n\u001b[0;32m      <a href='vscode-notebook-cell:/c%3A/Users/Quezada/Desktop/uvg%202023/Security%20Data%20Science/Lab07-SDS/LAB7.ipynb#X12sZmlsZQ%3D%3D?line=7'>8</a>\u001b[0m score_adv \u001b[39m=\u001b[39m vulnerable_model\u001b[39m.\u001b[39mevaluate(\n\u001b[0;32m      <a href='vscode-notebook-cell:/c%3A/Users/Quezada/Desktop/uvg%202023/Security%20Data%20Science/Lab07-SDS/LAB7.ipynb#X12sZmlsZQ%3D%3D?line=8'>9</a>\u001b[0m     x\u001b[39m=\u001b[39mtest_images_adv, \n\u001b[0;32m     <a href='vscode-notebook-cell:/c%3A/Users/Quezada/Desktop/uvg%202023/Security%20Data%20Science/Lab07-SDS/LAB7.ipynb#X12sZmlsZQ%3D%3D?line=9'>10</a>\u001b[0m     y\u001b[39m=\u001b[39mtest_labels\n\u001b[0;32m     <a href='vscode-notebook-cell:/c%3A/Users/Quezada/Desktop/uvg%202023/Security%20Data%20Science/Lab07-SDS/LAB7.ipynb#X12sZmlsZQ%3D%3D?line=10'>11</a>\u001b[0m     )\n",
      "File \u001b[1;32m~\\AppData\\Local\\Packages\\PythonSoftwareFoundation.Python.3.10_qbz5n2kfra8p0\\LocalCache\\local-packages\\Python310\\site-packages\\keras\\engine\\training_v1.py:975\u001b[0m, in \u001b[0;36mModel.evaluate\u001b[1;34m(self, x, y, batch_size, verbose, sample_weight, steps, callbacks, max_queue_size, workers, use_multiprocessing)\u001b[0m\n\u001b[0;32m    972\u001b[0m \u001b[39mself\u001b[39m\u001b[39m.\u001b[39m_check_call_args(\u001b[39m\"\u001b[39m\u001b[39mevaluate\u001b[39m\u001b[39m\"\u001b[39m)\n\u001b[0;32m    974\u001b[0m func \u001b[39m=\u001b[39m \u001b[39mself\u001b[39m\u001b[39m.\u001b[39m_select_training_loop(x)\n\u001b[1;32m--> 975\u001b[0m \u001b[39mreturn\u001b[39;00m func\u001b[39m.\u001b[39;49mevaluate(\n\u001b[0;32m    976\u001b[0m     \u001b[39mself\u001b[39;49m,\n\u001b[0;32m    977\u001b[0m     x\u001b[39m=\u001b[39;49mx,\n\u001b[0;32m    978\u001b[0m     y\u001b[39m=\u001b[39;49my,\n\u001b[0;32m    979\u001b[0m     batch_size\u001b[39m=\u001b[39;49mbatch_size,\n\u001b[0;32m    980\u001b[0m     verbose\u001b[39m=\u001b[39;49mverbose,\n\u001b[0;32m    981\u001b[0m     sample_weight\u001b[39m=\u001b[39;49msample_weight,\n\u001b[0;32m    982\u001b[0m     steps\u001b[39m=\u001b[39;49msteps,\n\u001b[0;32m    983\u001b[0m     callbacks\u001b[39m=\u001b[39;49mcallbacks,\n\u001b[0;32m    984\u001b[0m     max_queue_size\u001b[39m=\u001b[39;49mmax_queue_size,\n\u001b[0;32m    985\u001b[0m     workers\u001b[39m=\u001b[39;49mworkers,\n\u001b[0;32m    986\u001b[0m     use_multiprocessing\u001b[39m=\u001b[39;49muse_multiprocessing,\n\u001b[0;32m    987\u001b[0m )\n",
      "File \u001b[1;32m~\\AppData\\Local\\Packages\\PythonSoftwareFoundation.Python.3.10_qbz5n2kfra8p0\\LocalCache\\local-packages\\Python310\\site-packages\\keras\\engine\\training_arrays_v1.py:767\u001b[0m, in \u001b[0;36mArrayLikeTrainingLoop.evaluate\u001b[1;34m(self, model, x, y, batch_size, verbose, sample_weight, steps, callbacks, **kwargs)\u001b[0m\n\u001b[0;32m    754\u001b[0m \u001b[39mdef\u001b[39;00m \u001b[39mevaluate\u001b[39m(\n\u001b[0;32m    755\u001b[0m     \u001b[39mself\u001b[39m,\n\u001b[0;32m    756\u001b[0m     model,\n\u001b[1;32m   (...)\u001b[0m\n\u001b[0;32m    764\u001b[0m     \u001b[39m*\u001b[39m\u001b[39m*\u001b[39mkwargs,\n\u001b[0;32m    765\u001b[0m ):\n\u001b[0;32m    766\u001b[0m     batch_size \u001b[39m=\u001b[39m model\u001b[39m.\u001b[39m_validate_or_infer_batch_size(batch_size, steps, x)\n\u001b[1;32m--> 767\u001b[0m     x, y, sample_weights \u001b[39m=\u001b[39m model\u001b[39m.\u001b[39;49m_standardize_user_data(\n\u001b[0;32m    768\u001b[0m         x,\n\u001b[0;32m    769\u001b[0m         y,\n\u001b[0;32m    770\u001b[0m         sample_weight\u001b[39m=\u001b[39;49msample_weight,\n\u001b[0;32m    771\u001b[0m         batch_size\u001b[39m=\u001b[39;49mbatch_size,\n\u001b[0;32m    772\u001b[0m         check_steps\u001b[39m=\u001b[39;49m\u001b[39mTrue\u001b[39;49;00m,\n\u001b[0;32m    773\u001b[0m         steps_name\u001b[39m=\u001b[39;49m\u001b[39m\"\u001b[39;49m\u001b[39msteps\u001b[39;49m\u001b[39m\"\u001b[39;49m,\n\u001b[0;32m    774\u001b[0m         steps\u001b[39m=\u001b[39;49msteps,\n\u001b[0;32m    775\u001b[0m     )\n\u001b[0;32m    776\u001b[0m     \u001b[39mreturn\u001b[39;00m test_loop(\n\u001b[0;32m    777\u001b[0m         model,\n\u001b[0;32m    778\u001b[0m         inputs\u001b[39m=\u001b[39mx,\n\u001b[1;32m   (...)\u001b[0m\n\u001b[0;32m    784\u001b[0m         callbacks\u001b[39m=\u001b[39mcallbacks,\n\u001b[0;32m    785\u001b[0m     )\n",
      "File \u001b[1;32m~\\AppData\\Local\\Packages\\PythonSoftwareFoundation.Python.3.10_qbz5n2kfra8p0\\LocalCache\\local-packages\\Python310\\site-packages\\keras\\engine\\training_v1.py:2652\u001b[0m, in \u001b[0;36mModel._standardize_user_data\u001b[1;34m(self, x, y, sample_weight, class_weight, batch_size, check_steps, steps_name, steps, validation_split, shuffle, extract_tensors_from_dataset)\u001b[0m\n\u001b[0;32m   2643\u001b[0m \u001b[39mif\u001b[39;00m (\n\u001b[0;32m   2644\u001b[0m     \u001b[39mnot\u001b[39;00m run_eagerly\n\u001b[0;32m   2645\u001b[0m     \u001b[39mand\u001b[39;00m is_build_called\n\u001b[1;32m   (...)\u001b[0m\n\u001b[0;32m   2648\u001b[0m     \u001b[39mand\u001b[39;00m \u001b[39many\u001b[39m(_is_symbolic_tensor(v) \u001b[39mfor\u001b[39;00m v \u001b[39min\u001b[39;00m all_inputs)\n\u001b[0;32m   2649\u001b[0m ):\n\u001b[0;32m   2650\u001b[0m     \u001b[39mreturn\u001b[39;00m [], [], \u001b[39mNone\u001b[39;00m\n\u001b[1;32m-> 2652\u001b[0m \u001b[39mreturn\u001b[39;00m \u001b[39mself\u001b[39;49m\u001b[39m.\u001b[39;49m_standardize_tensors(\n\u001b[0;32m   2653\u001b[0m     x,\n\u001b[0;32m   2654\u001b[0m     y,\n\u001b[0;32m   2655\u001b[0m     sample_weight,\n\u001b[0;32m   2656\u001b[0m     run_eagerly\u001b[39m=\u001b[39;49mrun_eagerly,\n\u001b[0;32m   2657\u001b[0m     dict_inputs\u001b[39m=\u001b[39;49mdict_inputs,\n\u001b[0;32m   2658\u001b[0m     is_dataset\u001b[39m=\u001b[39;49mis_dataset,\n\u001b[0;32m   2659\u001b[0m     class_weight\u001b[39m=\u001b[39;49mclass_weight,\n\u001b[0;32m   2660\u001b[0m     batch_size\u001b[39m=\u001b[39;49mbatch_size,\n\u001b[0;32m   2661\u001b[0m )\n",
      "File \u001b[1;32m~\\AppData\\Local\\Packages\\PythonSoftwareFoundation.Python.3.10_qbz5n2kfra8p0\\LocalCache\\local-packages\\Python310\\site-packages\\keras\\engine\\training_v1.py:2783\u001b[0m, in \u001b[0;36mModel._standardize_tensors\u001b[1;34m(self, x, y, sample_weight, run_eagerly, dict_inputs, is_dataset, class_weight, batch_size)\u001b[0m\n\u001b[0;32m   2779\u001b[0m         training_utils_v1\u001b[39m.\u001b[39mcheck_array_lengths(x, y, sample_weights)\n\u001b[0;32m   2780\u001b[0m         \u001b[39mif\u001b[39;00m \u001b[39mself\u001b[39m\u001b[39m.\u001b[39m_is_graph_network \u001b[39mand\u001b[39;00m \u001b[39mnot\u001b[39;00m run_eagerly:\n\u001b[0;32m   2781\u001b[0m             \u001b[39m# Additional checks to avoid users mistakenly using improper\u001b[39;00m\n\u001b[0;32m   2782\u001b[0m             \u001b[39m# loss fns.\u001b[39;00m\n\u001b[1;32m-> 2783\u001b[0m             training_utils_v1\u001b[39m.\u001b[39;49mcheck_loss_and_target_compatibility(\n\u001b[0;32m   2784\u001b[0m                 y, \u001b[39mself\u001b[39;49m\u001b[39m.\u001b[39;49m_feed_loss_fns, feed_output_shapes\n\u001b[0;32m   2785\u001b[0m             )\n\u001b[0;32m   2787\u001b[0m     sample_weights, _, _ \u001b[39m=\u001b[39m training_utils\u001b[39m.\u001b[39mhandle_partial_sample_weights(\n\u001b[0;32m   2788\u001b[0m         y, sample_weights, feed_sample_weight_modes, check_all_flat\u001b[39m=\u001b[39m\u001b[39mTrue\u001b[39;00m\n\u001b[0;32m   2789\u001b[0m     )\n\u001b[0;32m   2790\u001b[0m \u001b[39melse\u001b[39;00m:\n",
      "File \u001b[1;32m~\\AppData\\Local\\Packages\\PythonSoftwareFoundation.Python.3.10_qbz5n2kfra8p0\\LocalCache\\local-packages\\Python310\\site-packages\\keras\\engine\\training_utils_v1.py:945\u001b[0m, in \u001b[0;36mcheck_loss_and_target_compatibility\u001b[1;34m(targets, loss_fns, output_shapes)\u001b[0m\n\u001b[0;32m    943\u001b[0m     loss_type \u001b[39m=\u001b[39m loss\u001b[39m.\u001b[39mfn \u001b[39mif\u001b[39;00m is_loss_wrapper \u001b[39melse\u001b[39;00m \u001b[39mtype\u001b[39m(loss)\n\u001b[0;32m    944\u001b[0m     loss_name \u001b[39m=\u001b[39m loss_type\u001b[39m.\u001b[39m\u001b[39m__name__\u001b[39m\n\u001b[1;32m--> 945\u001b[0m \u001b[39mraise\u001b[39;00m \u001b[39mValueError\u001b[39;00m(\n\u001b[0;32m    946\u001b[0m     \u001b[39m\"\u001b[39m\u001b[39mA target array with shape \u001b[39m\u001b[39m\"\u001b[39m\n\u001b[0;32m    947\u001b[0m     \u001b[39m+\u001b[39m \u001b[39mstr\u001b[39m(y\u001b[39m.\u001b[39mshape)\n\u001b[0;32m    948\u001b[0m     \u001b[39m+\u001b[39m \u001b[39m\"\u001b[39m\u001b[39m was passed for an output of shape \u001b[39m\u001b[39m\"\u001b[39m\n\u001b[0;32m    949\u001b[0m     \u001b[39m+\u001b[39m \u001b[39mstr\u001b[39m(shape)\n\u001b[0;32m    950\u001b[0m     \u001b[39m+\u001b[39m \u001b[39m\"\u001b[39m\u001b[39m while using as loss `\u001b[39m\u001b[39m\"\u001b[39m\n\u001b[0;32m    951\u001b[0m     \u001b[39m+\u001b[39m loss_name\n\u001b[0;32m    952\u001b[0m     \u001b[39m+\u001b[39m \u001b[39m\"\u001b[39m\u001b[39m`. \u001b[39m\u001b[39m\"\u001b[39m\n\u001b[0;32m    953\u001b[0m     \u001b[39m\"\u001b[39m\u001b[39mThis loss expects targets to have the same shape \u001b[39m\u001b[39m\"\u001b[39m\n\u001b[0;32m    954\u001b[0m     \u001b[39m\"\u001b[39m\u001b[39mas the output.\u001b[39m\u001b[39m\"\u001b[39m\n\u001b[0;32m    955\u001b[0m )\n",
      "\u001b[1;31mValueError\u001b[0m: A target array with shape (10000, 10) was passed for an output of shape (None, 25) while using as loss `categorical_crossentropy`. This loss expects targets to have the same shape as the output."
     ]
    }
   ],
   "source": [
    "# Evaluating the model on clean images\n",
    "score_clean = vulnerable_model.evaluate(\n",
    "    x=test_images, \n",
    "    y=test_labels\n",
    "    )\n",
    "\n",
    "# Evaluating the model on adversarial images\n",
    "score_adv = vulnerable_model.evaluate(\n",
    "    x=test_images_adv, \n",
    "    y=test_labels\n",
    "    )\n",
    "\n",
    "# Comparing test losses\n",
    "print(f\"Clean test set loss: {score_clean[0]:.2f} \" \n",
    "      f\"vs adversarial set test loss: {score_adv[0]:.2f}\")\n",
    "\n",
    "# Comparing test accuracies\n",
    "print(f\"Clean test set accuracy: {score_clean[1]:.2f} \" \n",
    "      f\"vs adversarial test set accuracy: {score_adv[1]:.2f}\")"
   ]
  },
  {
   "cell_type": "code",
   "execution_count": null,
   "metadata": {},
   "outputs": [],
   "source": [
    "#Se prueba el accuracy para distintos valores de epsilon\n",
    "\n",
    "# Setting the number of rows and columns for the figure\n",
    "nrows, ncols = 2, 5\n",
    "\n",
    "# Generating subplots\n",
    "fig, axes = plt.subplots(\n",
    "    nrows=nrows, \n",
    "    ncols=ncols, \n",
    "    figsize=(20, 10)\n",
    "    )\n",
    "\n",
    "# Defining a range of eps values to try\n",
    "eps_to_try = [0.01, 0.025, 0.05, 0.075, 0.1, 0.125, 0.15, 0.175, 0.2, 0.25]\n",
    "\n",
    "# Defining a counting variable to traverse eps_to_try\n",
    "counter = 0\n",
    "\n",
    "# Iterating over rows and cols\n",
    "for i in range(nrows):\n",
    "    for j in range(ncols):    \n",
    "        # Creating an attack object for the current value of eps    \n",
    "        attack_fgsm = FastGradientMethod(\n",
    "            estimator=clasificador, \n",
    "            eps=eps_to_try[counter]\n",
    "            )\n",
    "\n",
    "        # Generating adversarial images\n",
    "        test_images_adv = attack_fgsm.generate(x=test_images)\n",
    "\n",
    "        # Showing the first adversarial image\n",
    "        axes[i, j].imshow(X=test_images_adv[0])\n",
    "\n",
    "        # Disabling x and y ticks\n",
    "        axes[i, j].set_xticks(ticks=[])\n",
    "        axes[i, j].set_yticks(ticks=[])\n",
    "\n",
    "        # Evaluating model performance on adversarial samples and retrieving test accuracy\n",
    "        test_score = clasificador._model.evaluate(\n",
    "            x=test_images_adv, \n",
    "            y=test_labels\n",
    "            )[1]\n",
    "\n",
    "        # Getting prediction for the image that we displayed\n",
    "        prediction = np.argmax(vulnerable_model.predict(\n",
    "            x=np.expand_dims(a=test_images_adv[0], \n",
    "            axis=0)\n",
    "            ))    \n",
    "\n",
    "        # Showing the current eps value, test accuracy, and prediction\n",
    "        axes[i, j].set_title(\n",
    "            label=f\"Eps value: {eps_to_try[counter]}\\n\"\n",
    "            f\"Test accuracy: {test_score * 100:.2f}%\\n\"\n",
    "            f\"Prediction: {prediction}\"\n",
    "            )\n",
    "\n",
    "        # Incrementing counter\n",
    "        counter += 1\n",
    "\n",
    "# Showing the plot\n",
    "plt.show()"
   ]
  }
 ],
 "metadata": {
  "kernelspec": {
   "display_name": "Python 3",
   "language": "python",
   "name": "python3"
  },
  "language_info": {
   "codemirror_mode": {
    "name": "ipython",
    "version": 3
   },
   "file_extension": ".py",
   "mimetype": "text/x-python",
   "name": "python",
   "nbconvert_exporter": "python",
   "pygments_lexer": "ipython3",
   "version": "3.10.11"
  },
  "orig_nbformat": 4
 },
 "nbformat": 4,
 "nbformat_minor": 2
}
